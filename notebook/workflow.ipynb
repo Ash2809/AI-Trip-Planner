{
 "cells": [
  {
   "cell_type": "code",
   "execution_count": 50,
   "id": "8f746b53",
   "metadata": {},
   "outputs": [],
   "source": [
    "from langchain.text_splitter import RecursiveCharacterTextSplitter\n",
    "from langchain.document_loaders import PyPDFLoader,DirectoryLoader\n",
    "from langchain_google_genai import ChatGoogleGenerativeAI, GoogleGenerativeAIEmbeddings\n",
    "from langchain_astradb import AstraDBVectorStore\n",
    "from langchain_core.prompts import ChatPromptTemplate\n",
    "from langchain.chains import RetrievalQA\n",
    "from dotenv import load_dotenv\n",
    "from typing import Literal, List\n",
    "from typing_extensions import TypedDict\n",
    "import os\n",
    "from langchain.tools import Tool\n",
    "from langchain_community.tools.tavily_search import TavilySearchResults\n",
    "import requests\n",
    "from datetime import datetime\n",
    "from typing_extensions import TypedDict\n",
    "from langgraph.graph import StateGraph, END\n",
    "from typing import TypedDict\n"
   ]
  },
  {
   "cell_type": "code",
   "execution_count": null,
   "id": "c88c967c",
   "metadata": {},
   "outputs": [],
   "source": [
    "GOOGLE_API_KEY = os.getenv(\"GOOGLE_API_KEY\")\n",
    "ASTRA_API_KEY = os.getenv(\"ASTRA_API_KEY\")\n",
    "ASTRA_ENDPOINT = os.getenv(\"ASTRA_ENDPOINT\")\n",
    "TAVILY_API_KEY = os.getenv(\"TAVILY_API_KEY\")\n",
    "WEATHER_API_KEY = os.getenv(\"WEATHER_API_KEY\")"
   ]
  },
  {
   "cell_type": "code",
   "execution_count": 3,
   "id": "d88f80d9",
   "metadata": {},
   "outputs": [
    {
     "data": {
      "text/plain": [
       "'Hi there! How can I help you today?\\n'"
      ]
     },
     "execution_count": 3,
     "metadata": {},
     "output_type": "execute_result"
    }
   ],
   "source": [
    "llm = ChatGoogleGenerativeAI(model=\"gemini-1.5-flash\", api_key=GOOGLE_API_KEY, temperature=0.1)\n",
    "llm.invoke(\"Hi\").content"
   ]
  },
  {
   "cell_type": "code",
   "execution_count": 4,
   "id": "d98ad3e2",
   "metadata": {},
   "outputs": [],
   "source": [
    "gemini_embedding = GoogleGenerativeAIEmbeddings(model=\"models/embedding-001\")\n",
    "\n",
    "vector_store = AstraDBVectorStore(\n",
    "        embedding=gemini_embedding,\n",
    "        api_endpoint=ASTRA_ENDPOINT,\n",
    "        namespace=\"default_keyspace\",\n",
    "        token=ASTRA_API_KEY,\n",
    "        collection_name=\"travel\",\n",
    "    )\n",
    "\n",
    "retriever = vector_store.as_retriever()"
   ]
  },
  {
   "cell_type": "code",
   "execution_count": null,
   "id": "3e1c69a4",
   "metadata": {},
   "outputs": [],
   "source": [
    "class GraphState(TypedDict, total=False):\n",
    "    destination: str\n",
    "    rag_query: str\n",
    "    rag_result: str\n",
    "    user_message: str\n",
    "    itinerary_plan: str\n",
    "    travel_days : int\n",
    "    final_answer : str\n",
    "    journey_date: str\n",
    "    weather_info: str"
   ]
  },
  {
   "cell_type": "code",
   "execution_count": 6,
   "id": "e0f90c05",
   "metadata": {},
   "outputs": [],
   "source": [
    "def rag_node(state: GraphState) -> GraphState:\n",
    "    query = state[\"destination\"]\n",
    "    query =f\"What are the top attractions in {query}?\"\n",
    "\n",
    "    qa_chain = RetrievalQA.from_chain_type(llm=llm, retriever=retriever)\n",
    "    answer = qa_chain.run(query)\n",
    "\n",
    "    state[\"rag_result\"] = answer\n",
    "    return state"
   ]
  },
  {
   "cell_type": "code",
   "execution_count": 7,
   "id": "cd91a6a9",
   "metadata": {},
   "outputs": [],
   "source": [
    "def web_search_node(state: GraphState) -> GraphState:\n",
    "    destination = state[\"destination\"]\n",
    "    travel_days = state.get(\"travel_days\", 1)\n",
    "\n",
    "    search_query = f\"Best {travel_days}-day travel itinerary for {destination}\"\n",
    "    search_tool = TavilySearchResults(api_key=TAVILY_API_KEY, max_results=3)\n",
    "    results = search_tool.run(search_query)\n",
    "\n",
    "    combined_content = \"\\n\\n\".join([res[\"content\"] for res in results])\n",
    "\n",
    "    prompt = f\"\"\"\n",
    "    Create a detailed {travel_days}-day travel itinerary for {destination}\n",
    "    based on the following web content. Suggest attractions per day, meal stops,\n",
    "    and travel advice.\n",
    "\n",
    "    Content:\n",
    "    {combined_content}\n",
    "\n",
    "    Answer:\"\"\"\n",
    "\n",
    "    response = llm.invoke(prompt)\n",
    "    state[\"web_result\"] = response\n",
    "    return state"
   ]
  },
  {
   "cell_type": "code",
   "execution_count": 8,
   "id": "b63797cb",
   "metadata": {},
   "outputs": [],
   "source": [
    "def combine_results_node(state: GraphState) -> GraphState:\n",
    "    destination = state[\"destination\"]\n",
    "    travel_days = state.get(\"travel_days\", 1)\n",
    "\n",
    "    rag_result = state.get(\"rag_result\", \"\")\n",
    "    web_result = state.get(\"web_result\", \"\")\n",
    "\n",
    "    prompt = f\"\"\"\n",
    "    You are a smart travel planner assistant.\n",
    "\n",
    "    The user wants to travel to **{destination}** for **{travel_days} day(s)**.\n",
    "\n",
    "    You have two sources of information:\n",
    "    1. **Tour guidebook (PDF) answer**: {rag_result}\n",
    "    2. **Latest web search itinerary**: {web_result}\n",
    "\n",
    "    Your task is to **combine both sources** to generate the most useful, day-wise, and practical travel itinerary. Keep it short and focused per day with top attractions, local tips, and smart time planning. Mention meals or breaks where helpful.\n",
    "\n",
    "    Format your answer like:\n",
    "\n",
    "    Day 1:\n",
    "    - Attraction 1\n",
    "    - Attraction 2\n",
    "    - ...\n",
    "    Day 2:\n",
    "    - ...\n",
    "\n",
    "    Make sure to adjust based on the number of travel days: {travel_days}.\n",
    "    If you don't have enough information for a day, just say \"No information available for this day.\"\"\"\n",
    "\n",
    "    final_response = llm.invoke(prompt)\n",
    "    state[\"final_answer\"] = final_response\n",
    "    return state\n"
   ]
  },
  {
   "cell_type": "code",
   "execution_count": 10,
   "id": "375042f3",
   "metadata": {},
   "outputs": [],
   "source": [
    "WEATHER_API_KEY = os.getenv(\"WEATHER_API_KEY\")"
   ]
  },
  {
   "cell_type": "code",
   "execution_count": 20,
   "id": "9ba3ef9b",
   "metadata": {},
   "outputs": [],
   "source": [
    "def weather_node(state: GraphState) -> GraphState:\n",
    "    location = state[\"destination\"]\n",
    "    journey_date = state[\"journey_date\"]\n",
    "\n",
    "    url = f\"https://api.weatherapi.com/v1/forecast.json?key={WEATHER_API_KEY}&q={location}&days=7&aqi=no&alerts=no\"\n",
    "    response = requests.get(url)\n",
    "    data = response.json()\n",
    "\n",
    "    forecast_days = data.get(\"forecast\", {}).get(\"forecastday\", [])\n",
    "    forecast = \"No weather info available for the selected date.\"\n",
    "\n",
    "    for day in forecast_days:\n",
    "        if day[\"date\"] == journey_date:\n",
    "            condition = day[\"day\"][\"condition\"][\"text\"]\n",
    "            avg_temp = day[\"day\"][\"avgtemp_c\"]\n",
    "            max_temp = day[\"day\"][\"maxtemp_c\"]\n",
    "            min_temp = day[\"day\"][\"mintemp_c\"]\n",
    "            forecast = (\n",
    "                f\"Weather on {journey_date} in {location}:\\n\"\n",
    "                f\"Condition: {condition}\\n\"\n",
    "                f\"Average Temp: {avg_temp}°C\\n\"\n",
    "                f\"High: {max_temp}°C, Low: {min_temp}°C\"\n",
    "            )\n",
    "            break\n",
    "\n",
    "    state[\"weather_info\"] = forecast\n",
    "    return state\n"
   ]
  },
  {
   "cell_type": "code",
   "execution_count": null,
   "id": "093fb228",
   "metadata": {},
   "outputs": [
    {
     "data": {
      "image/png": "[encoded data removed]",
      "text/plain": [
       "<langgraph.graph.state.CompiledStateGraph object at 0x00000177BEF72980>"
      ]
     },
     "execution_count": 52,
     "metadata": {},
     "output_type": "execute_result"
    }
   ],
   "source": [
    "app = StateGraph(GraphState)\n",
    "\n",
    "app.add_node(\"RAG\", rag_node)\n",
    "app.add_node(\"WebSearch\", web_search_node)\n",
    "app.add_node(\"Weather\", weather_node)\n",
    "app.add_node(\"Combine\", combine_results_node)\n",
    "\n",
    "app.set_entry_point(\"RAG\")\n",
    "\n",
    "app.add_edge(\"RAG\", \"WebSearch\")\n",
    "app.add_edge(\"WebSearch\", \"Weather\")\n",
    "app.add_edge(\"Weather\", \"Combine\")\n",
    "app.add_edge(\"Combine\", END)\n",
    "\n",
    "app.compile()"
   ]
  }
 ],
 "metadata": {
  "kernelspec": {
   "display_name": "env2",
   "language": "python",
   "name": "python3"
  },
  "language_info": {
   "codemirror_mode": {
    "name": "ipython",
    "version": 3
   },
   "file_extension": ".py",
   "mimetype": "text/x-python",
   "name": "python",
   "nbconvert_exporter": "python",
   "pygments_lexer": "ipython3",
   "version": "3.10.16"
  }
 },
 "nbformat": 4,
 "nbformat_minor": 5
}
